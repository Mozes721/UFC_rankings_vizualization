{
 "cells": [
  {
   "cell_type": "code",
   "execution_count": 41,
   "id": "ccec0f8c",
   "metadata": {},
   "outputs": [],
   "source": [
    "from bs4 import BeautifulSoup \n",
    "import requests\n",
    "import pandas as pd\n",
    "from xlsxwriter import Workbook"
   ]
  },
  {
   "cell_type": "code",
   "execution_count": 7,
   "id": "a66fc9a4",
   "metadata": {},
   "outputs": [],
   "source": [
    "wiki_url = 'https://en.wikipedia.org/wiki/Ultimate_Fighting_Championship_rankings'\n",
    "\n",
    "response = requests.get(wiki_url)\n",
    "soup = BeautifulSoup(response.text, 'html.parser')"
   ]
  },
  {
   "cell_type": "code",
   "execution_count": 8,
   "id": "1e54274c",
   "metadata": {},
   "outputs": [],
   "source": [
    "# Headlines\n",
    "headline = soup.find_all('span', {'class': 'mw-headline'})\n",
    "\n",
    "# for head in headline[1:-3]:\n",
    "#     print(head.text)"
   ]
  },
  {
   "cell_type": "code",
   "execution_count": 11,
   "id": "3485aeca",
   "metadata": {},
   "outputs": [],
   "source": [
    "#all tables\n",
    "table = soup.find_all('table', {'class': 'wikitable'})[1:2]"
   ]
  },
  {
   "cell_type": "code",
   "execution_count": 28,
   "id": "0c70dd64",
   "metadata": {},
   "outputs": [
    {
     "name": "stdout",
     "output_type": "stream",
     "text": [
      "['Rank', 'Fighter', 'Record', 'M', 'Weight class', 'Status', 'Next fight']\n",
      "  Rank                Fighter       Record   M  \\\n",
      "0    1              Jon Jones  26–1 (1 NC) NaN   \n",
      "1    2           Kamaru Usman         18–1 NaN   \n",
      "2    3  Alexander Volkanovski         22–1 NaN   \n",
      "3    4        Israel Adesanya         20–1 NaN   \n",
      "4    5        Francis Ngannou         16–3 NaN   \n",
      "\n",
      "                                        Weight class                  Status  \\\n",
      "0                      Light heavyweight (2008–2020)                     NaN   \n",
      "1                                       Welterweight   Welterweight Champion   \n",
      "2  Welterweight (2012–2013)Lightweight (2014; 201...  Featherweight Champion   \n",
      "3                                       Middleweight   Middleweight Champion   \n",
      "4                                        Heavyweight    Heavyweight Champion   \n",
      "\n",
      "                                  Next fight  \n",
      "0                                        NaN  \n",
      "1  Jorge Masvidal (UFC 261 - April 24, 2021)  \n",
      "2                                        NaN  \n",
      "3                                        NaN  \n",
      "4                                        NaN  \n"
     ]
    }
   ],
   "source": [
    "for table in tables[1:2]:\n",
    "    rows = table.find_all('tr')\n",
    "    columns = [v.text.replace('\\n', '') for v in rows[0].find_all('th')]\n",
    "# #     df = pd.data(table)\n",
    "#     #df = pd.DataFrame(table[0])\n",
    "#     df=pd.read_html(str(table))\n",
    "#     df=pd.DataFrame(df[0])\n",
    "# print(df.head())\n",
    "\n",
    "df=pd.read_html(str(table))\n",
    "df=pd.DataFrame(df[0])\n",
    "print(columns)\n",
    "print(df.head())"
   ]
  },
  {
   "cell_type": "code",
   "execution_count": 31,
   "id": "e3209a6d",
   "metadata": {},
   "outputs": [],
   "source": [
    "#drop unwanted columns\n",
    "m_data = df.drop([ \"M\", \"Next fight\"], axis=1)"
   ]
  },
  {
   "cell_type": "code",
   "execution_count": 30,
   "id": "a6b9cd4a",
   "metadata": {},
   "outputs": [
    {
     "name": "stdout",
     "output_type": "stream",
     "text": [
      "Men's pound-for-pound\n",
      "Women's pound-for-pound\n",
      "Heavyweight\n",
      "Light heavyweight\n",
      "Middleweight\n",
      "Welterweight\n",
      "Lightweight\n",
      "Featherweight\n",
      "Bantamweight\n",
      "Flyweight\n",
      "Women's featherweight\n",
      "Women's bantamweight\n",
      "Women's flyweight\n",
      "Women's strawweight\n"
     ]
    }
   ],
   "source": [
    "for head in headline[1:-3]:\n",
    "    print(head.text)"
   ]
  },
  {
   "cell_type": "code",
   "execution_count": 32,
   "id": "fa7ad887",
   "metadata": {},
   "outputs": [
    {
     "name": "stdout",
     "output_type": "stream",
     "text": [
      "      Rank                Fighter       Record  \\\n",
      "0        1              Jon Jones  26–1 (1 NC)   \n",
      "1        2           Kamaru Usman         18–1   \n",
      "2        3  Alexander Volkanovski         22–1   \n",
      "3        4        Israel Adesanya         20–1   \n",
      "4        5        Francis Ngannou         16–3   \n",
      "5        6         Dustin Poirier  27–6 (1 NC)   \n",
      "6        7           Stipe Miocic         20–4   \n",
      "7        8         Jan Błachowicz         28–8   \n",
      "8        9           Max Holloway         22–6   \n",
      "9       10    Deiveson Figueiredo       20–1–1   \n",
      "10      11       Robert Whittaker         23–5   \n",
      "11  12 (T)         Justin Gaethje         22–3   \n",
      "12  12 (T)               Petr Yan         15–2   \n",
      "13      14      Aljamain Sterling         20–3   \n",
      "14      15         Conor McGregor         22–5   \n",
      "\n",
      "                                         Weight class  \\\n",
      "0                       Light heavyweight (2008–2020)   \n",
      "1                                        Welterweight   \n",
      "2   Welterweight (2012–2013)Lightweight (2014; 201...   \n",
      "3                                        Middleweight   \n",
      "4                                         Heavyweight   \n",
      "5   Lightweight (2009–2010, 2015–present)Featherwe...   \n",
      "6                                         Heavyweight   \n",
      "7                                   Light heavyweight   \n",
      "8   Lightweight (2010–2011; 2019)Featherweight (20...   \n",
      "9                                           Flyweight   \n",
      "10  Welterweight (2009–2014)Middleweight (2014–pre...   \n",
      "11                                        Lightweight   \n",
      "12                                       Bantamweight   \n",
      "13    Bantamweight (2010–present)Featherweight (2011)   \n",
      "14  Featherweight (2008–2015)Lightweight (2008–201...   \n",
      "\n",
      "                          Status  \n",
      "0                            NaN  \n",
      "1          Welterweight Champion  \n",
      "2         Featherweight Champion  \n",
      "3          Middleweight Champion  \n",
      "4           Heavyweight Champion  \n",
      "5     #1 in lightweight rankings  \n",
      "6     #1 in heavyweight rankings  \n",
      "7     Light Heavyweight Champion  \n",
      "8   #1 in featherweight rankings  \n",
      "9             Flyweight Champion  \n",
      "10   #1 in middleweight rankings  \n",
      "11    #2 in lightweight rankings  \n",
      "12   #1 in bantamweight rankings  \n",
      "13         Bantamweight Champion  \n",
      "14    #6 in lightweight rankings  \n"
     ]
    }
   ],
   "source": [
    "print(m_data)"
   ]
  },
  {
   "cell_type": "code",
   "execution_count": 33,
   "id": "8a5a1b1f",
   "metadata": {},
   "outputs": [],
   "source": [
    "#df_csv = data.Ex('Men_pound_for_pound.csv', mode = 'w', index=False)"
   ]
  },
  {
   "cell_type": "code",
   "execution_count": 48,
   "id": "68153fdd",
   "metadata": {},
   "outputs": [],
   "source": [
    "#create a writter\n",
    "# df = pd.DataFrame(list())\n",
    "# df.to_csv('UFC_rankings.csv')\n",
    "# #write dataframe to excel sheet named headline[0]\n",
    "# m_data.to_excel(df, headline[0])\n",
    "writer = pd.ExcelWriter('UFC_rankings.xlsx', engine='xlsxwriter')\n",
    "\n",
    "df.to_excel(writer, sheet_name='Mens pound-for-pound')\n",
    "\n",
    "writer.save()\n"
   ]
  },
  {
   "cell_type": "code",
   "execution_count": null,
   "id": "544d044e",
   "metadata": {},
   "outputs": [],
   "source": []
  }
 ],
 "metadata": {
  "kernelspec": {
   "display_name": "Python 3",
   "language": "python",
   "name": "python3"
  },
  "language_info": {
   "codemirror_mode": {
    "name": "ipython",
    "version": 3
   },
   "file_extension": ".py",
   "mimetype": "text/x-python",
   "name": "python",
   "nbconvert_exporter": "python",
   "pygments_lexer": "ipython3",
   "version": "3.7.3"
  }
 },
 "nbformat": 4,
 "nbformat_minor": 5
}