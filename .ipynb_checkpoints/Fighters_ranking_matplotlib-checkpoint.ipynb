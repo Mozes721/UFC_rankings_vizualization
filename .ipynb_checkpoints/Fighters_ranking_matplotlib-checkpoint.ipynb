{
 "cells": [
  {
   "cell_type": "code",
   "execution_count": 22,
   "id": "e55f9fee",
   "metadata": {},
   "outputs": [],
   "source": [
    "import matplotlib.pyplot as plt\n",
    "from openpyxl import Workbook, load_workbook\n",
    "import pandas as pd\n",
    "import numpy as np\n",
    "import xlrd"
   ]
  },
  {
   "cell_type": "code",
   "execution_count": 40,
   "id": "60d855f4",
   "metadata": {},
   "outputs": [
    {
     "name": "stdout",
     "output_type": "stream",
     "text": [
      "[\"Men's pound-for-pound\", \"Women's pound-for-pound\", 'Heavyweight', 'Light heavyweight', 'Middleweight', 'Welterweight', 'Lightweight', 'Featherweight', 'Bantamweight', 'Flyweight', \"Women's bantamweight\", \"Women's flyweight\", \"Women's strawweight\"]\n",
      "                  Fighter       Record\n",
      "0               Jon Jones  26–1 (1 NC)\n",
      "1            Kamaru Usman         18–1\n",
      "2   Alexander Volkanovski         22–1\n",
      "3         Israel Adesanya         20–1\n",
      "4         Francis Ngannou         16–3\n",
      "5          Dustin Poirier  27–6 (1 NC)\n",
      "6            Stipe Miocic         20–4\n",
      "7          Jan Błachowicz         28–8\n",
      "8            Max Holloway         22–6\n",
      "9     Deiveson Figueiredo       20–1–1\n",
      "10       Robert Whittaker         23–5\n"
     ]
    }
   ],
   "source": [
    "# wb = pd.read_excel('UFC_rankings.xlsx')\n",
    "\n",
    "# wb.sheet_names\n",
    "\n",
    "# wb.parse[\"Men's pound-for-pound\"]\n",
    "\n",
    "# mpp= wb[\"Men's pound-for-pound\"]\n",
    "\n",
    "#get all sheet names\n",
    "sheet_names = []\n",
    "wb = load_workbook(filename = 'UFC_rankings.xlsx')\n",
    "\n",
    "for sheet in wb.sheetnames:\n",
    "    sheet_names.append(sheet)\n",
    "\n",
    "print(sheet_names)\n",
    "\n",
    "mpp = pd.read_excel(\"UFC_rankings.xlsx\", sheet_name=\"Men's pound-for-pound\")\n",
    "\n",
    "#get just the fighter and Record\n",
    "menspp = mpp.iloc[:, 1:3]\n",
    "\n",
    "menspp_10 = menspp.head(11)\n",
    "#change to Dataframe\n",
    "mendf = pd.DataFrame(menspp_10)\n",
    "\n",
    "print(mendf)\n"
   ]
  },
  {
   "cell_type": "code",
   "execution_count": 41,
   "id": "07c83b7e",
   "metadata": {},
   "outputs": [
    {
     "name": "stdout",
     "output_type": "stream",
     "text": [
      "Fighter      Jon Jones\n",
      "Record     26–1 (1 NC)\n",
      "Name: 0, dtype: object\n"
     ]
    }
   ],
   "source": [
    "#testing with Joghn Jones\n",
    "\n",
    "print(menspp.iloc[0])"
   ]
  },
  {
   "cell_type": "code",
   "execution_count": 42,
   "id": "d34acf31",
   "metadata": {},
   "outputs": [
    {
     "name": "stdout",
     "output_type": "stream",
     "text": [
      "Jon Jones 26–1 (1 NC)\n",
      "(26, 1)\n"
     ]
    }
   ],
   "source": [
    "fighter = menspp.iloc[0][0]\n",
    "record = menspp.iloc[0][1]\n",
    "print(fighter + ' ' + record)\n",
    "\n",
    "won = record.split()[0][0:2]\n",
    "lost = record.split()[0][3:4]\n",
    "score = int(won), int(lost)\n",
    "print(score)"
   ]
  },
  {
   "cell_type": "code",
   "execution_count": 43,
   "id": "0e97cade",
   "metadata": {},
   "outputs": [
    {
     "data": {
      "image/png": "[encoded data removed]",
      "text/plain": [
       "<Figure size 432x216 with 1 Axes>"
      ]
     },
     "metadata": {},
     "output_type": "display_data"
    }
   ],
   "source": [
    "colors = ['tab:green', 'tab:red']\n",
    "explode = [0.1, 0]\n",
    "\n",
    "fig, ax = plt.subplots(figsize=(6, 3), subplot_kw=dict(aspect=\"equal\"))\n",
    "\n",
    "array_score = np.asarray(score)\n",
    "labels = [\"wins\", \"losses\"]\n",
    "\n",
    "\n",
    "def func(pct, allvals):\n",
    "    absolute = int(round(pct/100.*np.sum(allvals)))\n",
    "    return \"{:.1f}%\\n({:d})\".format(pct, absolute)\n",
    "\n",
    "\n",
    "wedges, texts, autotexts = ax.pie(array_score, autopct=lambda pct: func(pct, array_score),\n",
    "                                  textprops=dict(color=\"w\"), explode=explode)\n",
    "\n",
    "ax.legend(wedges, labels,\n",
    "          title=\"Score\",\n",
    "          loc=\"center left\",\n",
    "          bbox_to_anchor=(1, 1))\n",
    "texts[0].set_fontsize(10)\n",
    "\n",
    "plt.setp(autotexts, size=8, weight=\"bold\")\n",
    "\n",
    "\n",
    "ax.set_title(fighter)\n",
    "\n",
    "\n",
    "plt.show()"
   ]
  },
  {
   "cell_type": "code",
   "execution_count": 47,
   "id": "226594c4",
   "metadata": {},
   "outputs": [
    {
     "name": "stdout",
     "output_type": "stream",
     "text": [
      "Jon Jones 26–1 (1 NC)\n",
      "Kamaru Usman 18–1\n",
      "Alexander Volkanovski 22–1\n",
      "Israel Adesanya 20–1\n",
      "Francis Ngannou 16–3\n",
      "Dustin Poirier 27–6 (1 NC)\n",
      "Stipe Miocic 20–4\n",
      "Jan Błachowicz 28–8\n",
      "Max Holloway 22–6\n",
      "Deiveson Figueiredo 20–1–1\n",
      "Robert Whittaker 23–5\n"
     ]
    }
   ],
   "source": [
    "#bar plot\n",
    "for index, row in mendf.iterrows():\n",
    "    print (row[\"Fighter\"], row[\"Record\"])"
   ]
  },
  {
   "cell_type": "code",
   "execution_count": null,
   "id": "aa146b70",
   "metadata": {},
   "outputs": [],
   "source": []
  },
  {
   "cell_type": "code",
   "execution_count": null,
   "id": "e8a8f609",
   "metadata": {},
   "outputs": [],
   "source": []
  }
 ],
 "metadata": {
  "kernelspec": {
   "display_name": "Python 3.7.3 64-bit ('env': venv)",
   "language": "python",
   "name": "python373jvsc74a57bd0a6306fc0afc3196ca692b6981d3647ab6920560511b54a7e68e69cbfddc74d1f"
  },
  "language_info": {
   "codemirror_mode": {
    "name": "ipython",
    "version": 3
   },
   "file_extension": ".py",
   "mimetype": "text/x-python",
   "name": "python",
   "nbconvert_exporter": "python",
   "pygments_lexer": "ipython3",
   "version": "3.7.3"
  },
  "metadata": {
   "interpreter": {
    "hash": "a6306fc0afc3196ca692b6981d3647ab6920560511b54a7e68e69cbfddc74d1f"
   }
  }
 },
 "nbformat": 4,
 "nbformat_minor": 5
}
