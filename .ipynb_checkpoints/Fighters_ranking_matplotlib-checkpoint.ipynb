{
 "cells": [
  {
   "cell_type": "code",
   "execution_count": 58,
   "id": "e55f9fee",
   "metadata": {},
   "outputs": [],
   "source": [
    "import matplotlib.pyplot as plt\n",
    "from openpyxl import Workbook\n",
    "import pandas as pd\n"
   ]
  },
  {
   "cell_type": "code",
   "execution_count": 59,
   "id": "60d855f4",
   "metadata": {},
   "outputs": [
    {
     "name": "stdout",
     "output_type": "stream",
     "text": [
      "                 Fighter       Record\n",
      "0              Jon Jones  26–1 (1 NC)\n",
      "1           Kamaru Usman         18–1\n",
      "2  Alexander Volkanovski         22–1\n",
      "3        Israel Adesanya         20–1\n",
      "4        Francis Ngannou         16–3\n"
     ]
    }
   ],
   "source": [
    "# wb = pd.read_excel('UFC_rankings.xlsx')\n",
    "\n",
    "# wb.sheet_names\n",
    "\n",
    "# wb.parse[\"Men's pound-for-pound\"]\n",
    "\n",
    "# mpp= wb[\"Men's pound-for-pound\"]\n",
    "\n",
    "mpp = pd.read_excel(\"UFC_rankings.xlsx\", sheet_name=\"Men's pound-for-pound\")\n",
    "\n",
    "#get just the fighter and Record\n",
    "menspp = mpp.iloc[:, 1:3]\n",
    "\n",
    "print(menspp.head())\n"
   ]
  },
  {
   "cell_type": "code",
   "execution_count": 60,
   "id": "07c83b7e",
   "metadata": {},
   "outputs": [
    {
     "name": "stdout",
     "output_type": "stream",
     "text": [
      "Fighter      Jon Jones\n",
      "Record     26–1 (1 NC)\n",
      "Name: 0, dtype: object\n"
     ]
    }
   ],
   "source": [
    "#testing with Joghn Jones\n",
    "\n",
    "print(menspp.iloc[0])"
   ]
  },
  {
   "cell_type": "code",
   "execution_count": 80,
   "id": "d34acf31",
   "metadata": {},
   "outputs": [
    {
     "name": "stdout",
     "output_type": "stream",
     "text": [
      "Jon Jones 26–1 (1 NC)\n",
      "(26, 1)\n"
     ]
    }
   ],
   "source": [
    "fighter = menspp.iloc[0][0]\n",
    "record = menspp.iloc[0][1]\n",
    "print(fighter + ' ' + record)\n",
    "\n",
    "won = record.split()[0][0:2]\n",
    "lost = record.split()[0][3:4]\n",
    "score = int(won), int(lost)\n",
    "print(score)"
   ]
  },
  {
   "cell_type": "code",
   "execution_count": 92,
   "id": "0e97cade",
   "metadata": {},
   "outputs": [
    {
     "ename": "TypeError",
     "evalue": "'Text' object is not callable",
     "output_type": "error",
     "traceback": [
      "\u001b[0;31m---------------------------------------------------------------------------\u001b[0m",
      "\u001b[0;31mTypeError\u001b[0m                                 Traceback (most recent call last)",
      "\u001b[0;32m<ipython-input-92-d4b64536092c>\u001b[0m in \u001b[0;36m<module>\u001b[0;34m\u001b[0m\n\u001b[1;32m      6\u001b[0m \u001b[0max\u001b[0m\u001b[0;34m.\u001b[0m\u001b[0mpie\u001b[0m\u001b[0;34m(\u001b[0m\u001b[0mscore\u001b[0m\u001b[0;34m,\u001b[0m \u001b[0mlabels\u001b[0m \u001b[0;34m=\u001b[0m \u001b[0mlabels\u001b[0m\u001b[0;34m,\u001b[0m \u001b[0mcolors\u001b[0m\u001b[0;34m=\u001b[0m \u001b[0mcolors\u001b[0m\u001b[0;34m,\u001b[0m \u001b[0mautopct\u001b[0m\u001b[0;34m=\u001b[0m\u001b[0;34m'%.0f%%'\u001b[0m\u001b[0;34m)\u001b[0m\u001b[0;34m\u001b[0m\u001b[0;34m\u001b[0m\u001b[0m\n\u001b[1;32m      7\u001b[0m \u001b[0;34m\u001b[0m\u001b[0m\n\u001b[0;32m----> 8\u001b[0;31m \u001b[0max\u001b[0m\u001b[0;34m.\u001b[0m\u001b[0mtitle\u001b[0m\u001b[0;34m(\u001b[0m\u001b[0mfighter\u001b[0m\u001b[0;34m)\u001b[0m\u001b[0;34m\u001b[0m\u001b[0;34m\u001b[0m\u001b[0m\n\u001b[0m\u001b[1;32m      9\u001b[0m \u001b[0;34m\u001b[0m\u001b[0m\n\u001b[1;32m     10\u001b[0m \u001b[0;31m# fig = plt.figure(figsize =(10, 7))\u001b[0m\u001b[0;34m\u001b[0m\u001b[0;34m\u001b[0m\u001b[0;34m\u001b[0m\u001b[0m\n",
      "\u001b[0;31mTypeError\u001b[0m: 'Text' object is not callable"
     ]
    },
    {
     "data": {
      "image/png": "[encoded data removed]",
      "text/plain": [
       "<Figure size 432x288 with 1 Axes>"
      ]
     },
     "metadata": {},
     "output_type": "display_data"
    }
   ],
   "source": [
    "labels = [\"wins\", \"losses\"]\n",
    "colors = ['tab:green', 'tab:red']\n",
    "\n",
    "fig, ax = plt.subplots()\n",
    "\n",
    "ax.pie(score, labels = labels, colors= colors, autopct='%.0f%%')\n",
    "\n",
    "ax.title(fighter)\n",
    "\n",
    "# fig = plt.figure(figsize =(10, 7))\n",
    "# plt.pie(score, labels = labels, autopct='1.1f')\n",
    "\n",
    "plt.show()"
   ]
  },
  {
   "cell_type": "code",
   "execution_count": null,
   "id": "226594c4",
   "metadata": {},
   "outputs": [],
   "source": []
  }
 ],
 "metadata": {
  "kernelspec": {
   "display_name": "Python 3.7.3 64-bit ('env': venv)",
   "language": "python",
   "name": "python373jvsc74a57bd0a6306fc0afc3196ca692b6981d3647ab6920560511b54a7e68e69cbfddc74d1f"
  },
  "language_info": {
   "codemirror_mode": {
    "name": "ipython",
    "version": 3
   },
   "file_extension": ".py",
   "mimetype": "text/x-python",
   "name": "python",
   "nbconvert_exporter": "python",
   "pygments_lexer": "ipython3",
   "version": "3.7.3"
  },
  "metadata": {
   "interpreter": {
    "hash": "a6306fc0afc3196ca692b6981d3647ab6920560511b54a7e68e69cbfddc74d1f"
   }
  }
 },
 "nbformat": 4,
 "nbformat_minor": 5
}
